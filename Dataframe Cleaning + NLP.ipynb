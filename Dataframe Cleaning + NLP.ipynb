{
 "cells": [
  {
   "cell_type": "markdown",
   "metadata": {},
   "source": [
    "# Dataframe Cleaning & NLP"
   ]
  },
  {
   "cell_type": "markdown",
   "metadata": {},
   "source": [
    "The <b> purpose </b>of this notebook is to merge, clean, and create keywords using NLP - all of theses steps will assist in feeding keywords into the Twitter API."
   ]
  },
  {
   "cell_type": "markdown",
   "metadata": {},
   "source": [
    "## Libraries"
   ]
  },
  {
   "cell_type": "code",
   "execution_count": 123,
   "metadata": {},
   "outputs": [],
   "source": [
    "import pandas as pd\n",
    "import numpy as np\n",
    "from pprint import pprint\n",
    "import spacy\n",
    "import json\n",
    "import os\n",
    "import matplotlib.pyplot as plt\n",
    "import matplotlib\n",
    "import time"
   ]
  },
  {
   "cell_type": "markdown",
   "metadata": {},
   "source": [
    "## Loading Exported Dataframes"
   ]
  },
  {
   "cell_type": "markdown",
   "metadata": {},
   "source": [
    "Creating a \"helper\" function to do light cleaning so we can apply it quickly on multiple dataframes."
   ]
  },
  {
   "cell_type": "code",
   "execution_count": 146,
   "metadata": {},
   "outputs": [],
   "source": [
    "def initial_clean(data, article_type):\n",
    "    \n",
    "    \"Light cleaning on raw data by dropping unnamed column, creating identifyer column, and re-ordering columns\"\n",
    "    \n",
    "    data2 = data.drop(columns=['Unnamed: 0'])  # Drop the first column\n",
    "    rowcount = data.shape[0]                   # Finding total rows\n",
    "    data2['Article Type'] = article_type       # Indicator for original JSON category from website\n",
    "    cols = data2.columns.tolist()              # Making a list of all the columns in dataframe\n",
    "    cols2 = cols[-1:] + cols[:-1]              # Take the last column and move it to the front \n",
    "    data3 = data2[cols2]                       # Setting new ordered dataframe to variable\n",
    "    \n",
    "    \n",
    "    return (data3)"
   ]
  },
  {
   "cell_type": "markdown",
   "metadata": {},
   "source": [
    "### Datasets"
   ]
  },
  {
   "cell_type": "markdown",
   "metadata": {},
   "source": [
    "Pulling in all compiled datasets as csv's. We'll then compile them into dataframes later on. For now we're pulling in the csv files and setting them to variables."
   ]
  },
  {
   "cell_type": "code",
   "execution_count": 150,
   "metadata": {
    "scrolled": true
   },
   "outputs": [],
   "source": [
    "politicalnews = pd.read_csv('politicalnews.csv', sep=\"\\t\", encoding=\"utf8\", dtype=str)\n",
    "technews = pd.read_csv('technews.csv', sep=\"\\t\", encoding=\"utf8\", dtype=str)"
   ]
  },
  {
   "cell_type": "markdown",
   "metadata": {},
   "source": [
    "### Dataframes"
   ]
  },
  {
   "cell_type": "markdown",
   "metadata": {},
   "source": [
    "We run the helper function to every variable from the <b> dataset</b> section above and then we'll join them all together as one dataframe. "
   ]
  },
  {
   "cell_type": "code",
   "execution_count": 151,
   "metadata": {
    "scrolled": true
   },
   "outputs": [],
   "source": [
    "politicalnews_df = initial_clean(politicalnews, 'Political News')\n",
    "technews_df = initial_clean(technews, 'Tech News')"
   ]
  },
  {
   "cell_type": "markdown",
   "metadata": {},
   "source": [
    "## Compiling Dataframes"
   ]
  },
  {
   "cell_type": "code",
   "execution_count": 152,
   "metadata": {},
   "outputs": [],
   "source": [
    "data = politicalnews_df.append(technews_df, ignore_index = True)"
   ]
  },
  {
   "cell_type": "code",
   "execution_count": 153,
   "metadata": {},
   "outputs": [
    {
     "data": {
      "text/html": [
       "<div>\n",
       "<style scoped>\n",
       "    .dataframe tbody tr th:only-of-type {\n",
       "        vertical-align: middle;\n",
       "    }\n",
       "\n",
       "    .dataframe tbody tr th {\n",
       "        vertical-align: top;\n",
       "    }\n",
       "\n",
       "    .dataframe thead th {\n",
       "        text-align: right;\n",
       "    }\n",
       "</style>\n",
       "<table border=\"1\" class=\"dataframe\">\n",
       "  <thead>\n",
       "    <tr style=\"text-align: right;\">\n",
       "      <th></th>\n",
       "      <th>Article Type</th>\n",
       "      <th>organizations</th>\n",
       "      <th>uuid</th>\n",
       "      <th>thread_social_gplus_shares</th>\n",
       "      <th>thread_social_pinterest_shares</th>\n",
       "      <th>thread_social_vk_shares</th>\n",
       "      <th>thread_social_linkedin_shares</th>\n",
       "      <th>thread_social_facebook_likes</th>\n",
       "      <th>thread_social_facebook_shares</th>\n",
       "      <th>thread_social_facebook_comments</th>\n",
       "      <th>...</th>\n",
       "      <th>entities_locations</th>\n",
       "      <th>entities_organizations</th>\n",
       "      <th>highlightText</th>\n",
       "      <th>language</th>\n",
       "      <th>persons</th>\n",
       "      <th>text</th>\n",
       "      <th>external_links</th>\n",
       "      <th>published</th>\n",
       "      <th>crawled</th>\n",
       "      <th>highlightTitle</th>\n",
       "    </tr>\n",
       "  </thead>\n",
       "  <tbody>\n",
       "    <tr>\n",
       "      <th>0</th>\n",
       "      <td>Political News</td>\n",
       "      <td>NaN</td>\n",
       "      <td>8085f289866a814f7a443e1a31e48f8a307a040f</td>\n",
       "      <td>0</td>\n",
       "      <td>0</td>\n",
       "      <td>0</td>\n",
       "      <td>0</td>\n",
       "      <td>0</td>\n",
       "      <td>0</td>\n",
       "      <td>0</td>\n",
       "      <td>...</td>\n",
       "      <td>NaN</td>\n",
       "      <td>NaN</td>\n",
       "      <td>NaN</td>\n",
       "      <td>english</td>\n",
       "      <td>NaN</td>\n",
       "      <td>The Healthiest Pastas: From Quinoa to Buckwhea...</td>\n",
       "      <td>[['http://www.reddit.com/submit?url=http%3A%2F...</td>\n",
       "      <td>2015-10-02T03:00:00.000+03:00</td>\n",
       "      <td>2015-10-02T17:33:59.981+03:00</td>\n",
       "      <td>NaN</td>\n",
       "    </tr>\n",
       "    <tr>\n",
       "      <th>1</th>\n",
       "      <td>Political News</td>\n",
       "      <td>['Anchorage Daily News']</td>\n",
       "      <td>f4ad43deab0a72726d6165b37a971c578efdd4f5</td>\n",
       "      <td>0</td>\n",
       "      <td>0</td>\n",
       "      <td>0</td>\n",
       "      <td>0</td>\n",
       "      <td>0</td>\n",
       "      <td>0</td>\n",
       "      <td>0</td>\n",
       "      <td>...</td>\n",
       "      <td>NaN</td>\n",
       "      <td>NaN</td>\n",
       "      <td>NaN</td>\n",
       "      <td>english</td>\n",
       "      <td>NaN</td>\n",
       "      <td>Published By: Anchorage Daily News - Today \\nP...</td>\n",
       "      <td>NaN</td>\n",
       "      <td>2015-10-19T08:06:00.000+03:00</td>\n",
       "      <td>2015-10-19T09:23:00.540+03:00</td>\n",
       "      <td>NaN</td>\n",
       "    </tr>\n",
       "    <tr>\n",
       "      <th>2</th>\n",
       "      <td>Political News</td>\n",
       "      <td>['ABC News']</td>\n",
       "      <td>c98cbd870f52950ff685e772fd189bd01fc85767</td>\n",
       "      <td>0</td>\n",
       "      <td>0</td>\n",
       "      <td>0</td>\n",
       "      <td>0</td>\n",
       "      <td>0</td>\n",
       "      <td>0</td>\n",
       "      <td>0</td>\n",
       "      <td>...</td>\n",
       "      <td>NaN</td>\n",
       "      <td>NaN</td>\n",
       "      <td>NaN</td>\n",
       "      <td>english</td>\n",
       "      <td>NaN</td>\n",
       "      <td>Published By: ABC News - Today \\nVideo obtaine...</td>\n",
       "      <td>NaN</td>\n",
       "      <td>2015-10-08T17:09:00.000+03:00</td>\n",
       "      <td>2015-10-08T17:42:28.717+03:00</td>\n",
       "      <td>NaN</td>\n",
       "    </tr>\n",
       "    <tr>\n",
       "      <th>3</th>\n",
       "      <td>Political News</td>\n",
       "      <td>NaN</td>\n",
       "      <td>3481ad311613e0da31e6017f854c7ded093b398a</td>\n",
       "      <td>0</td>\n",
       "      <td>0</td>\n",
       "      <td>0</td>\n",
       "      <td>0</td>\n",
       "      <td>0</td>\n",
       "      <td>0</td>\n",
       "      <td>0</td>\n",
       "      <td>...</td>\n",
       "      <td>NaN</td>\n",
       "      <td>NaN</td>\n",
       "      <td>NaN</td>\n",
       "      <td>english</td>\n",
       "      <td>NaN</td>\n",
       "      <td>Note: This post contains spoilers about Fear t...</td>\n",
       "      <td>NaN</td>\n",
       "      <td>2015-10-05T07:28:00.000+03:00</td>\n",
       "      <td>2015-10-05T10:10:00.218+03:00</td>\n",
       "      <td>NaN</td>\n",
       "    </tr>\n",
       "    <tr>\n",
       "      <th>4</th>\n",
       "      <td>Political News</td>\n",
       "      <td>NaN</td>\n",
       "      <td>17954912c005732967b28ef81b4ebc58d3911efc</td>\n",
       "      <td>0</td>\n",
       "      <td>0</td>\n",
       "      <td>0</td>\n",
       "      <td>0</td>\n",
       "      <td>0</td>\n",
       "      <td>0</td>\n",
       "      <td>0</td>\n",
       "      <td>...</td>\n",
       "      <td>NaN</td>\n",
       "      <td>NaN</td>\n",
       "      <td>NaN</td>\n",
       "      <td>english</td>\n",
       "      <td>NaN</td>\n",
       "      <td>Facebook app draining your iPhone battery? Com...</td>\n",
       "      <td>NaN</td>\n",
       "      <td>2015-10-23T13:08:00.000+03:00</td>\n",
       "      <td>2015-10-23T15:40:06.454+03:00</td>\n",
       "      <td>NaN</td>\n",
       "    </tr>\n",
       "  </tbody>\n",
       "</table>\n",
       "<p>5 rows × 43 columns</p>\n",
       "</div>"
      ],
      "text/plain": [
       "     Article Type             organizations  \\\n",
       "0  Political News                       NaN   \n",
       "1  Political News  ['Anchorage Daily News']   \n",
       "2  Political News              ['ABC News']   \n",
       "3  Political News                       NaN   \n",
       "4  Political News                       NaN   \n",
       "\n",
       "                                       uuid thread_social_gplus_shares  \\\n",
       "0  8085f289866a814f7a443e1a31e48f8a307a040f                          0   \n",
       "1  f4ad43deab0a72726d6165b37a971c578efdd4f5                          0   \n",
       "2  c98cbd870f52950ff685e772fd189bd01fc85767                          0   \n",
       "3  3481ad311613e0da31e6017f854c7ded093b398a                          0   \n",
       "4  17954912c005732967b28ef81b4ebc58d3911efc                          0   \n",
       "\n",
       "  thread_social_pinterest_shares thread_social_vk_shares  \\\n",
       "0                              0                       0   \n",
       "1                              0                       0   \n",
       "2                              0                       0   \n",
       "3                              0                       0   \n",
       "4                              0                       0   \n",
       "\n",
       "  thread_social_linkedin_shares thread_social_facebook_likes  \\\n",
       "0                             0                            0   \n",
       "1                             0                            0   \n",
       "2                             0                            0   \n",
       "3                             0                            0   \n",
       "4                             0                            0   \n",
       "\n",
       "  thread_social_facebook_shares thread_social_facebook_comments  \\\n",
       "0                             0                               0   \n",
       "1                             0                               0   \n",
       "2                             0                               0   \n",
       "3                             0                               0   \n",
       "4                             0                               0   \n",
       "\n",
       "       ...       entities_locations entities_organizations highlightText  \\\n",
       "0      ...                      NaN                    NaN           NaN   \n",
       "1      ...                      NaN                    NaN           NaN   \n",
       "2      ...                      NaN                    NaN           NaN   \n",
       "3      ...                      NaN                    NaN           NaN   \n",
       "4      ...                      NaN                    NaN           NaN   \n",
       "\n",
       "  language persons                                               text  \\\n",
       "0  english     NaN  The Healthiest Pastas: From Quinoa to Buckwhea...   \n",
       "1  english     NaN  Published By: Anchorage Daily News - Today \\nP...   \n",
       "2  english     NaN  Published By: ABC News - Today \\nVideo obtaine...   \n",
       "3  english     NaN  Note: This post contains spoilers about Fear t...   \n",
       "4  english     NaN  Facebook app draining your iPhone battery? Com...   \n",
       "\n",
       "                                      external_links  \\\n",
       "0  [['http://www.reddit.com/submit?url=http%3A%2F...   \n",
       "1                                                NaN   \n",
       "2                                                NaN   \n",
       "3                                                NaN   \n",
       "4                                                NaN   \n",
       "\n",
       "                       published                        crawled highlightTitle  \n",
       "0  2015-10-02T03:00:00.000+03:00  2015-10-02T17:33:59.981+03:00            NaN  \n",
       "1  2015-10-19T08:06:00.000+03:00  2015-10-19T09:23:00.540+03:00            NaN  \n",
       "2  2015-10-08T17:09:00.000+03:00  2015-10-08T17:42:28.717+03:00            NaN  \n",
       "3  2015-10-05T07:28:00.000+03:00  2015-10-05T10:10:00.218+03:00            NaN  \n",
       "4  2015-10-23T13:08:00.000+03:00  2015-10-23T15:40:06.454+03:00            NaN  \n",
       "\n",
       "[5 rows x 43 columns]"
      ]
     },
     "execution_count": 153,
     "metadata": {},
     "output_type": "execute_result"
    }
   ],
   "source": [
    "data.head()"
   ]
  },
  {
   "cell_type": "markdown",
   "metadata": {},
   "source": [
    "## Adding Keyword Column Through NLP"
   ]
  },
  {
   "cell_type": "markdown",
   "metadata": {},
   "source": [
    "Now we have a compiled dataset, we'll use NLP to find keywords which will be fed into Twitter's API and useful for other visualizations."
   ]
  },
  {
   "cell_type": "code",
   "execution_count": 154,
   "metadata": {},
   "outputs": [
    {
     "data": {
      "text/plain": [
       "['Article Type',\n",
       " 'organizations',\n",
       " 'uuid',\n",
       " 'thread_social_gplus_shares',\n",
       " 'thread_social_pinterest_shares',\n",
       " 'thread_social_vk_shares',\n",
       " 'thread_social_linkedin_shares',\n",
       " 'thread_social_facebook_likes',\n",
       " 'thread_social_facebook_shares',\n",
       " 'thread_social_facebook_comments',\n",
       " 'thread_social_stumbledupon_shares',\n",
       " 'thread_site_full',\n",
       " 'thread_main_image',\n",
       " 'thread_site_section',\n",
       " 'thread_section_title',\n",
       " 'thread_url',\n",
       " 'thread_country',\n",
       " 'thread_title',\n",
       " 'thread_performance_score',\n",
       " 'thread_site',\n",
       " 'thread_participants_count',\n",
       " 'thread_title_full',\n",
       " 'thread_spam_score',\n",
       " 'thread_site_type',\n",
       " 'thread_published',\n",
       " 'thread_replies_count',\n",
       " 'thread_uuid',\n",
       " 'author',\n",
       " 'url',\n",
       " 'ord_in_thread',\n",
       " 'title',\n",
       " 'locations',\n",
       " 'entities_persons',\n",
       " 'entities_locations',\n",
       " 'entities_organizations',\n",
       " 'highlightText',\n",
       " 'language',\n",
       " 'persons',\n",
       " 'text',\n",
       " 'external_links',\n",
       " 'published',\n",
       " 'crawled',\n",
       " 'highlightTitle']"
      ]
     },
     "execution_count": 154,
     "metadata": {},
     "output_type": "execute_result"
    }
   ],
   "source": [
    "data.columns.tolist()"
   ]
  }
 ],
 "metadata": {
  "kernelspec": {
   "display_name": "Python 3",
   "language": "python",
   "name": "python3"
  },
  "language_info": {
   "codemirror_mode": {
    "name": "ipython",
    "version": 3
   },
   "file_extension": ".py",
   "mimetype": "text/x-python",
   "name": "python",
   "nbconvert_exporter": "python",
   "pygments_lexer": "ipython3",
   "version": "3.6.5"
  }
 },
 "nbformat": 4,
 "nbformat_minor": 2
}
