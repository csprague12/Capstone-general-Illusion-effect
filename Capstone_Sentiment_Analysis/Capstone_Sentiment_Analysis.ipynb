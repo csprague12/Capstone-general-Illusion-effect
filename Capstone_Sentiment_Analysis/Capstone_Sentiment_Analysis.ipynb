{
 "cells": [
  {
   "cell_type": "code",
   "execution_count": 16,
   "metadata": {},
   "outputs": [],
   "source": [
    "import pandas as pd\n",
    "import xlrd\n",
    "df = pandas.read_excel('sample_1000.xlsx')"
   ]
  },
  {
   "cell_type": "code",
   "execution_count": 17,
   "metadata": {},
   "outputs": [
    {
     "data": {
      "text/plain": [
       "0       The Healthiest Pastas: From Quinoa to Buckwhea...\n",
       "1       Published By: Anchorage Daily News - Today \\nP...\n",
       "2       Published By: ABC News - Today \\nVideo obtaine...\n",
       "3       Note: This post contains spoilers about Fear t...\n",
       "4       Facebook app draining your iPhone battery? Com...\n",
       "5       Maroochydore MP Fiona Simpson is calling on th...\n",
       "6       Published By: Cincinnati Enquirer - Today \\nCi...\n",
       "7       Katy Perry Shows Her Support for Hillary Clint...\n",
       "8       A Lebanese-born Sydney father has spent 10 mon...\n",
       "9       Published By: Finger Lake Times - Today \\nSENE...\n",
       "10      ( Source : HACU - Hispanic Association of Coll...\n",
       "11      ( Source : City of Carrollton, TX ) Enjoy a ni...\n",
       "12      Published By: Louisville Courier-Journal: Ente...\n",
       "13      ( Source : NPS - National Park Service ) Dig t...\n",
       "14      Published By: Charlotte Observer: Living - Tod...\n",
       "15      Published By: Hood County news - Today \\nHeavy...\n",
       "16      Published By: NYTimes Tennis - Today \\nRomania...\n",
       "17      OPINION\\nReturn to video Video settings Please...\n",
       "18      You've read the headlines time and time again:...\n",
       "19      Published By: Fox News - Today \\nA New York Ci...\n",
       "20      Published By: Philly Eagles - Today \\nThe Bird...\n",
       "21      Published By: Louisville Courier-Journal: Spor...\n",
       "22      ( Source : Statistics New Zealand ) For August...\n",
       "23      Published By: USATODAY.com: Nation - Today \\nR...\n",
       "24      Published By: Fox Sports: Motor - Today \\nFull...\n",
       "25      Published By: USATODAY.com: Money - Today \\nLi...\n",
       "26      Published By: Reuters - Lifestyle - Today \\nNE...\n",
       "27      ( Source : Macquarie University ) Macquarie Un...\n",
       "28      So, where to now for Vanuatu? The journalist w...\n",
       "29      Is the Court poised for shift to the... \\nClin...\n",
       "                              ...                        \n",
       "971     Published By: Bradenton Herald: Opinion - Toda...\n",
       "972     There are two narratives that accompany a cont...\n",
       "973     Published By: USATODAY.com: Money - Today \\nGr...\n",
       "974     Published By: Forbes.com: Latest News - Today ...\n",
       "975     Merkel has resisted pressure to tighten German...\n",
       "976     {* #registrationFormBlank *} {* traditionalReg...\n",
       "977     Published By: Charlotte Observer: Sports - Tod...\n",
       "978     Published By: Baytown Sun - Today \\nAs city st...\n",
       "979     Published By: Charlotte Observer - Today \\nThe...\n",
       "980     The Russian Defense Ministry said that Russia ...\n",
       "981     Published By: Fox News: Sports - Yesterday \\nH...\n",
       "982     Published By: Asbury Park Press - Today \\nChri...\n",
       "983     Published By: Des Moines Register - Today \\nEi...\n",
       "984     Published By: Montgomery Advertiser - Today \\n...\n",
       "985     ( Source : UPMC - University of Pittsburgh Med...\n",
       "986     US appeals court upholds gun laws after Newtow...\n",
       "987     Published By: Charlotte Observer: Crime - Toda...\n",
       "988     Draft Biden, a super PAC which is trying to co...\n",
       "989     Published By: USATODAY.com: NBA - Today \\nThat...\n",
       "990     The pain (and relief) of losing political offi...\n",
       "991     Inside Uber‚Äôs Mission to Give Its Drivers th...\n",
       "992     Published By: Houston Chronicle Sports - Today...\n",
       "993     Published By: The Coloradoan: Sports - Today \\...\n",
       "994     ( Source : New Orleans Police Department ) NEW...\n",
       "995     The latest political poll has delivered mixed ...\n",
       "996     Published By: NYTimes Business - Today \\nJohns...\n",
       "997     The state Liberal Member for Ripon, Louise Sta...\n",
       "998     Published By: USATODAY.com: Nation - Today \\nA...\n",
       "999     Published By: Beaumont Enterprise: World - Tod...\n",
       "1000    Published By: Reuters - Environment - Today \\n...\n",
       "Name: text, Length: 1001, dtype: object"
      ]
     },
     "execution_count": 17,
     "metadata": {},
     "output_type": "execute_result"
    }
   ],
   "source": [
    "df['text']"
   ]
  },
  {
   "cell_type": "markdown",
   "metadata": {},
   "source": [
    "# Sentiment Analysis using TextBlob\n"
   ]
  },
  {
   "cell_type": "code",
   "execution_count": 24,
   "metadata": {},
   "outputs": [],
   "source": [
    "from textblob import TextBlob\n",
    "\n",
    "# Fill na with empty string\n",
    "df['text'] = df['text'].fillna('')\n",
    "# Replace `removed` and `deleted` with empty string\n",
    "tbr = ['[removed]', '[deleted]']\n",
    "df['text'] = df['text'].apply(lambda x: '' if x in tbr else x)"
   ]
  },
  {
   "cell_type": "code",
   "execution_count": 25,
   "metadata": {},
   "outputs": [],
   "source": [
    "#Convert all the text to lowercase - avoids having multiple copies of the same words.\n",
    "#Replace url in the text with empty space.\n",
    "#Replace all empty spaces with just one.\n",
    "#Remove all the empty text from the dataframe\n",
    "\n",
    "import re\n",
    "# Convert all the string to lower cases\n",
    "df['text'] = df['text'].str.lower()\n",
    "# \\S+ means anything that is not an empty space\n",
    "df['text'] = df['text'].apply(lambda x: re.sub('http\\S*', '', x))\n",
    "# \\s+ means all empty space (\\n, \\r, \\t)\n",
    "df['text'] = df['text'].apply(lambda x: re.sub('\\s+', ' ', x))\n",
    "# We don't want empty string in our text\n",
    "df = df.loc[df['text'] != \"\"]"
   ]
  },
  {
   "cell_type": "code",
   "execution_count": 26,
   "metadata": {},
   "outputs": [],
   "source": [
    "#removing punctuation\n",
    "import re\n",
    "df['text'] = df['text'].apply(lambda x: re.sub('[^\\w\\s]', '', x))"
   ]
  },
  {
   "cell_type": "markdown",
   "metadata": {},
   "source": [
    "Maybe remove stop words?"
   ]
  },
  {
   "cell_type": "code",
   "execution_count": 27,
   "metadata": {},
   "outputs": [],
   "source": [
    "def sentiment_func(text):\n",
    "    try:\n",
    "        return TextBlob(text).sentiment\n",
    "    except:\n",
    "        return None"
   ]
  },
  {
   "cell_type": "code",
   "execution_count": 28,
   "metadata": {},
   "outputs": [],
   "source": [
    "df['text_blob']= df['text'].apply(sentiment_func)"
   ]
  },
  {
   "cell_type": "code",
   "execution_count": 29,
   "metadata": {},
   "outputs": [],
   "source": [
    "#df['text_blob'][0][0]\n",
    "\n",
    "#df['polarity']=df['text_blob'].apply(lambda x: x[0])\n",
    "#df['subjectivity']=df['text_blob'].apply(lambda x: x[1])\n",
    "\n",
    "##or simpler way? \n",
    "df[['polarity','subjectivity']]= df['text'].apply(lambda text:pd.Series(TextBlob(text).sentiment))"
   ]
  },
  {
   "cell_type": "code",
   "execution_count": 30,
   "metadata": {},
   "outputs": [
    {
     "data": {
      "text/plain": [
       "0          (0.14800485008818345, 0.4534565742899075)\n",
       "1       (-0.029166666666666664, 0.26666666666666666)\n",
       "2          (0.13333333333333333, 0.3666666666666667)\n",
       "3                                         (0.0, 0.0)\n",
       "4          (0.18714285714285714, 0.3771428571428571)\n",
       "5                                         (0.0, 0.0)\n",
       "6                       (-0.09999999999999999, 0.35)\n",
       "7                                        (-0.1, 0.1)\n",
       "8                                        (-0.1, 0.1)\n",
       "9        (0.062121212121212126, 0.43722943722943725)\n",
       "10                                        (0.1, 0.4)\n",
       "11        (0.26666666666666666, 0.48888888888888893)\n",
       "12        (-0.15555555555555559, 0.2888888888888889)\n",
       "13                                    (0.125, 0.375)\n",
       "14         (0.5833333333333334, 0.31666666666666665)\n",
       "15                                      (-0.1, 0.75)\n",
       "16                                        (0.0, 0.0)\n",
       "17         (0.15726540616246495, 0.5098389355742295)\n",
       "18        (0.08903482880755609, 0.33311032401941487)\n",
       "19        (-0.05454545454545454, 0.6181818181818182)\n",
       "20                       (0.225, 0.3666666666666667)\n",
       "21                                        (0.0, 0.0)\n",
       "22        (0.13636363636363635, 0.45454545454545453)\n",
       "23                                        (0.0, 0.3)\n",
       "24                                      (0.35, 0.55)\n",
       "25         (-0.3277777777777778, 0.3944444444444445)\n",
       "26       (-0.05681818181818182, 0.34393939393939393)\n",
       "27                                    (0.03125, 0.5)\n",
       "28         (-0.2916666666666667, 0.5416666666666666)\n",
       "29       (-0.01279137529137529, 0.38834498834498843)\n",
       "                            ...                     \n",
       "971                                       (0.0, 0.0)\n",
       "972         (0.07861985472154963, 0.371178369652946)\n",
       "973                                      (-0.2, 0.3)\n",
       "974                                       (0.5, 0.7)\n",
       "975        (0.09158149289505223, 0.3753124464988872)\n",
       "976        (0.19545454545454546, 0.4515151515151515)\n",
       "977        (0.16666666666666666, 0.3333333333333333)\n",
       "978                                       (0.0, 0.0)\n",
       "979                                       (0.5, 0.7)\n",
       "980                                       (0.0, 0.0)\n",
       "981                                       (0.0, 0.0)\n",
       "982                     (0.175, 0.47500000000000003)\n",
       "983                                       (0.3, 0.5)\n",
       "984                                       (0.0, 0.0)\n",
       "985      (-0.03333333333333333, 0.03333333333333333)\n",
       "986        (0.13892906336088154, 0.4137913223140497)\n",
       "987                                       (0.1, 0.4)\n",
       "988        (0.11519607843137256, 0.5196078431372548)\n",
       "989                                    (-0.875, 1.0)\n",
       "990     (-0.001957440707440704, 0.33890729640729633)\n",
       "991                                     (0.25, 0.75)\n",
       "992                                      (-0.4, 0.4)\n",
       "993                     (0.175, 0.47500000000000003)\n",
       "994        (0.06818181818181818, 0.3731060606060606)\n",
       "995         (0.13234126984126984, 0.333068783068783)\n",
       "996                                      (-0.6, 0.7)\n",
       "997                                       (0.0, 0.0)\n",
       "998                     (0.2125, 0.6124999999999999)\n",
       "999       (0.19285714285714287, 0.49999999999999994)\n",
       "1000       (0.11666666666666665, 0.4666666666666666)\n",
       "Name: text_blob, Length: 1001, dtype: object"
      ]
     },
     "execution_count": 30,
     "metadata": {},
     "output_type": "execute_result"
    }
   ],
   "source": [
    "df['text_blob']"
   ]
  },
  {
   "cell_type": "markdown",
   "metadata": {},
   "source": [
    "# Sentiment Analysis uing Vader"
   ]
  },
  {
   "cell_type": "code",
   "execution_count": 31,
   "metadata": {},
   "outputs": [
    {
     "name": "stderr",
     "output_type": "stream",
     "text": [
      "/Applications/anaconda3/lib/python3.7/site-packages/nltk/twitter/__init__.py:20: UserWarning: The twython library has not been installed. Some functionality from the twitter package will not be available.\n",
      "  warnings.warn(\"The twython library has not been installed. \"\n"
     ]
    }
   ],
   "source": [
    "import nltk\n",
    "from nltk.sentiment.vader import SentimentIntensityAnalyzer \n",
    "#nltk.download('vader_lexicon')"
   ]
  },
  {
   "cell_type": "code",
   "execution_count": 32,
   "metadata": {},
   "outputs": [],
   "source": [
    "df1 = pandas.read_excel('sample_1000.xlsx')"
   ]
  },
  {
   "cell_type": "code",
   "execution_count": 33,
   "metadata": {},
   "outputs": [],
   "source": [
    "# Fill na with empty string\n",
    "df1['text'] = df1['text'].fillna('')\n",
    "# Replace `removed` and `deleted` with empty string\n",
    "tbr = ['[removed]', '[deleted]']\n",
    "df1['text'] = df1['text'].apply(lambda x: '' if x in tbr else x)"
   ]
  },
  {
   "cell_type": "code",
   "execution_count": 34,
   "metadata": {},
   "outputs": [],
   "source": [
    "all_text=df1['text']\n",
    "all_sent_values=[]\n",
    "all_sentiments=[]\n",
    "\n",
    "def sentiment_value(paragraph):\n",
    "    analyser= SentimentIntensityAnalyzer()\n",
    "    result= analyser.polarity_scores(paragraph)\n",
    "    score=result['compound']\n",
    "    return round(score ,1)"
   ]
  },
  {
   "cell_type": "code",
   "execution_count": 35,
   "metadata": {},
   "outputs": [
    {
     "name": "stdout",
     "output_type": "stream",
     "text": [
      "Published By: Louisville Courier-Journal: Sports - Today \n",
      "Kentucky Football | Transcript of Shannon Dawson's and D.J. Eliot's pre-Auburn comments ...\n",
      "sentiment: \n",
      "0.0\n"
     ]
    }
   ],
   "source": [
    "#Take a sample to see if its running alright\n",
    "\n",
    "sample= df1['text'][21]\n",
    "print(sample)\n",
    "print('sentiment: ')\n",
    "print(sentiment_value(sample))"
   ]
  },
  {
   "cell_type": "code",
   "execution_count": 47,
   "metadata": {},
   "outputs": [],
   "source": [
    "#ideally run a for loop on the entire dataframe , but this could take hella long, so just running it on 1000 rows for now\n",
    "for i in range(0,1000):\n",
    "    all_sent_values.append(sentiment_value(all_text[i]))"
   ]
  },
  {
   "cell_type": "code",
   "execution_count": 51,
   "metadata": {},
   "outputs": [
    {
     "data": {
      "text/plain": [
       "(1000, 43)"
      ]
     },
     "execution_count": 51,
     "metadata": {},
     "output_type": "execute_result"
    }
   ],
   "source": [
    "#probably do this in batches, maybe the first batch could be 100k articles, but for now, 1000 will do for the test\n",
    "temp_data = df1[0:1000]\n",
    "temp_data.shape"
   ]
  },
  {
   "cell_type": "code",
   "execution_count": 52,
   "metadata": {},
   "outputs": [],
   "source": [
    "SENTIMENT_VALUE = []\n",
    "SENTIMENT = []\n",
    "for i in range(0,1000):\n",
    "    sent = all_sent_values[i]\n",
    "    if (sent<=1 and sent>=0.5):\n",
    "        SENTIMENT.append('V.Positive')\n",
    "        SENTIMENT_VALUE.append(5)\n",
    "    elif (sent<0.5 and sent>0):\n",
    "        SENTIMENT.append('Positive')\n",
    "        SENTIMENT_VALUE.append(4)\n",
    "    elif (sent==0):\n",
    "        SENTIMENT.append('Neutral')\n",
    "        SENTIMENT_VALUE.append(3)\n",
    "    elif (sent<0 and sent>=-0.5):\n",
    "        SENTIMENT.append('Negative')\n",
    "        SENTIMENT_VALUE.append(2)\n",
    "    else:\n",
    "        SENTIMENT.append('V.Negative')\n",
    "        SENTIMENT_VALUE.append(1)"
   ]
  },
  {
   "cell_type": "code",
   "execution_count": 53,
   "metadata": {},
   "outputs": [
    {
     "name": "stderr",
     "output_type": "stream",
     "text": [
      "/Applications/anaconda3/lib/python3.7/site-packages/ipykernel_launcher.py:2: SettingWithCopyWarning: \n",
      "A value is trying to be set on a copy of a slice from a DataFrame.\n",
      "Try using .loc[row_indexer,col_indexer] = value instead\n",
      "\n",
      "See the caveats in the documentation: http://pandas.pydata.org/pandas-docs/stable/indexing.html#indexing-view-versus-copy\n",
      "  \n",
      "/Applications/anaconda3/lib/python3.7/site-packages/ipykernel_launcher.py:3: SettingWithCopyWarning: \n",
      "A value is trying to be set on a copy of a slice from a DataFrame.\n",
      "Try using .loc[row_indexer,col_indexer] = value instead\n",
      "\n",
      "See the caveats in the documentation: http://pandas.pydata.org/pandas-docs/stable/indexing.html#indexing-view-versus-copy\n",
      "  This is separate from the ipykernel package so we can avoid doing imports until\n"
     ]
    }
   ],
   "source": [
    "#update to temp dataset\n",
    "temp_data['SENTIMENT_VALUE'] = SENTIMENT_VALUE\n",
    "temp_data['SENTIMENT'] = SENTIMENT"
   ]
  },
  {
   "cell_type": "code",
   "execution_count": 54,
   "metadata": {},
   "outputs": [
    {
     "data": {
      "text/html": [
       "<div>\n",
       "<style scoped>\n",
       "    .dataframe tbody tr th:only-of-type {\n",
       "        vertical-align: middle;\n",
       "    }\n",
       "\n",
       "    .dataframe tbody tr th {\n",
       "        vertical-align: top;\n",
       "    }\n",
       "\n",
       "    .dataframe thead th {\n",
       "        text-align: right;\n",
       "    }\n",
       "</style>\n",
       "<table border=\"1\" class=\"dataframe\">\n",
       "  <thead>\n",
       "    <tr style=\"text-align: right;\">\n",
       "      <th></th>\n",
       "      <th>text</th>\n",
       "      <th>SENTIMENT</th>\n",
       "      <th>SENTIMENT_VALUE</th>\n",
       "    </tr>\n",
       "  </thead>\n",
       "  <tbody>\n",
       "    <tr>\n",
       "      <th>0</th>\n",
       "      <td>The Healthiest Pastas: From Quinoa to Buckwhea...</td>\n",
       "      <td>V.Positive</td>\n",
       "      <td>5</td>\n",
       "    </tr>\n",
       "    <tr>\n",
       "      <th>1</th>\n",
       "      <td>Published By: Anchorage Daily News - Today \\nP...</td>\n",
       "      <td>Neutral</td>\n",
       "      <td>3</td>\n",
       "    </tr>\n",
       "    <tr>\n",
       "      <th>2</th>\n",
       "      <td>Published By: ABC News - Today \\nVideo obtaine...</td>\n",
       "      <td>Neutral</td>\n",
       "      <td>3</td>\n",
       "    </tr>\n",
       "    <tr>\n",
       "      <th>3</th>\n",
       "      <td>Note: This post contains spoilers about Fear t...</td>\n",
       "      <td>V.Negative</td>\n",
       "      <td>1</td>\n",
       "    </tr>\n",
       "    <tr>\n",
       "      <th>4</th>\n",
       "      <td>Facebook app draining your iPhone battery? Com...</td>\n",
       "      <td>Neutral</td>\n",
       "      <td>3</td>\n",
       "    </tr>\n",
       "  </tbody>\n",
       "</table>\n",
       "</div>"
      ],
      "text/plain": [
       "                                                text   SENTIMENT  \\\n",
       "0  The Healthiest Pastas: From Quinoa to Buckwhea...  V.Positive   \n",
       "1  Published By: Anchorage Daily News - Today \\nP...     Neutral   \n",
       "2  Published By: ABC News - Today \\nVideo obtaine...     Neutral   \n",
       "3  Note: This post contains spoilers about Fear t...  V.Negative   \n",
       "4  Facebook app draining your iPhone battery? Com...     Neutral   \n",
       "\n",
       "   SENTIMENT_VALUE  \n",
       "0                5  \n",
       "1                3  \n",
       "2                3  \n",
       "3                1  \n",
       "4                3  "
      ]
     },
     "execution_count": 54,
     "metadata": {},
     "output_type": "execute_result"
    }
   ],
   "source": [
    "temp_data[['text','SENTIMENT','SENTIMENT_VALUE']].head()"
   ]
  },
  {
   "cell_type": "markdown",
   "metadata": {},
   "source": [
    "Not exactly sure how we can check the accuracy of these scores (?)"
   ]
  },
  {
   "cell_type": "code",
   "execution_count": 57,
   "metadata": {},
   "outputs": [
    {
     "data": {
      "image/png": "[encoded data removed]",
      "text/plain": [
       "<Figure size 648x648 with 1 Axes>"
      ]
     },
     "metadata": {
      "needs_background": "light"
     },
     "output_type": "display_data"
    }
   ],
   "source": [
    "import matplotlib.pyplot as plt\n",
    "xaxis = []\n",
    "for i in range(0,1000):\n",
    "    xaxis.append(i)\n",
    "\n",
    "ylabel_new_1 = all_sent_values[:1000]\n",
    "\n",
    "xlabel = xaxis\n",
    "plt.figure(figsize=(9,9))\n",
    "plt.xlabel('Articles')\n",
    "plt.ylabel('SentimentValue (-1 to 1)')\n",
    "plt.plot(xlabel, ylabel_new_1, 'ro',  alpha=1)\n",
    "\n",
    "plt.title('Scatter Intensity Plot of Sentiments')\n",
    "plt.show()"
   ]
  },
  {
   "cell_type": "code",
   "execution_count": null,
   "metadata": {},
   "outputs": [],
   "source": []
  }
 ],
 "metadata": {
  "kernelspec": {
   "display_name": "Python 3",
   "language": "python",
   "name": "python3"
  },
  "language_info": {
   "codemirror_mode": {
    "name": "ipython",
    "version": 3
   },
   "file_extension": ".py",
   "mimetype": "text/x-python",
   "name": "python",
   "nbconvert_exporter": "python",
   "pygments_lexer": "ipython3",
   "version": "3.7.0"
  }
 },
 "nbformat": 4,
 "nbformat_minor": 2
}
